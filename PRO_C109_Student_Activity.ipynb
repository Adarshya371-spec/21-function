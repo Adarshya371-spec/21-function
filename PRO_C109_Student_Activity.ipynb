{
  "nbformat": 4,
  "nbformat_minor": 0,
  "metadata": {
    "colab": {
      "provenance": [],
      "collapsed_sections": [],
      "include_colab_link": true
    },
    "kernelspec": {
      "name": "python3",
      "display_name": "Python 3"
    },
    "language_info": {
      "name": "python"
    }
  },
  "cells": [
    {
      "cell_type": "markdown",
      "metadata": {
        "id": "view-in-github",
        "colab_type": "text"
      },
      "source": [
        "<a href=\"https://colab.research.google.com/github/Adarshya371-spec/21-function/blob/main/PRO_C109_Student_Activity.ipynb\" target=\"_parent\"><img src=\"https://colab.research.google.com/assets/colab-badge.svg\" alt=\"Open In Colab\"/></a>"
      ]
    },
    {
      "cell_type": "markdown",
      "metadata": {
        "id": "FEJpk7d85AEe"
      },
      "source": [
        "## Phonebook"
      ]
    },
    {
      "cell_type": "code",
      "metadata": {
        "id": "TvPncZmt4lLb"
      },
      "source": [
        "# Define Class\n",
        "class Contact_Details:\n",
        "\n",
        "    # Define Attributes of class  \n",
        "    def __init__(self, name, mobile_number, email, address):\n",
        "        self.contact_name = name\n",
        "        self.contact_number = mobile_number\n",
        "        self.email = email\n",
        "        self.contact_address = address       \n",
        "\n",
        "        # Make a dictionary of the contact details \n",
        "        self.person = {\n",
        "            \"name\": self.contact_name,\n",
        "            \"mobile\" : self.contact_number,\n",
        "            \"email\": self.email,\n",
        "            \"address\": self.contact_address\n",
        "        } \n",
        "       \n",
        "\n",
        "    # Define Methods of class\n",
        "    def view_contact_details(self, contact_list): \n",
        "         print(contact_list)\n",
        "\n",
        "    # Add the contact details to the list    \n",
        "    def add_contact_details(self, contact_list):      \n",
        "      contact_list.append(self.person)\n",
        "\n",
        "    # REPLACE THIS COMMENT WITH CODE#"
      ],
      "execution_count": 9,
      "outputs": []
    },
    {
      "cell_type": "code",
      "metadata": {
        "id": "IhfI3d6OF6K8"
      },
      "source": [
        "# Create Object of the class\n",
        "phonebook_list=[]\n",
        "#object name=classname\n",
        "new_contact=Contact_Details(\"Adarshya\",000000,\"aa@gmail.com\",\"xyz\")"
      ],
      "execution_count": 3,
      "outputs": []
    },
    {
      "cell_type": "code",
      "metadata": {
        "id": "kWMf88E6jMn3"
      },
      "source": [
        "# Call Methods of the class\n",
        "#<object name>.<method name>\n",
        "new_contact.add_contact_details(phonebook_list)\n"
      ],
      "execution_count": 4,
      "outputs": []
    },
    {
      "cell_type": "code",
      "source": [
        "new_contact.view_contact_details(phonebook_list)"
      ],
      "metadata": {
        "id": "rnqQDhvBahhe",
        "outputId": "06339efe-2869-46b8-e384-9e08afcb7e3c",
        "colab": {
          "base_uri": "https://localhost:8080/"
        }
      },
      "execution_count": 5,
      "outputs": [
        {
          "output_type": "stream",
          "name": "stdout",
          "text": [
            "[{'name': 'Adarshya', 'mobile': 0, 'email': 'aa@gmail.com', 'address': 'xyz'}]\n"
          ]
        }
      ]
    },
    {
      "cell_type": "code",
      "source": [
        "#ADD SECOND PERSON\n",
        "new_contact=Contact_Details(\"ishaan\",9999999,\"bb@gmail.com\",\"bbb\")"
      ],
      "metadata": {
        "id": "2cazPw18asld"
      },
      "execution_count": 6,
      "outputs": []
    },
    {
      "cell_type": "code",
      "source": [
        "new_contact.add_contact_details(phonebook_list)"
      ],
      "metadata": {
        "id": "nIyHLQc2a9g3"
      },
      "execution_count": 7,
      "outputs": []
    },
    {
      "cell_type": "code",
      "source": [
        "new_contact.view_contact_details(phonebook_list)"
      ],
      "metadata": {
        "id": "1-uC_ruObDlw",
        "outputId": "58100b0c-3702-4b6d-c7b2-855a6d28dfaf",
        "colab": {
          "base_uri": "https://localhost:8080/"
        }
      },
      "execution_count": 8,
      "outputs": [
        {
          "output_type": "stream",
          "name": "stdout",
          "text": [
            "[{'name': 'Adarshya', 'mobile': 0, 'email': 'aa@gmail.com', 'address': 'xyz'}, {'name': 'ishaan', 'mobile': 9999999, 'email': 'bb@gmail.com', 'address': 'bbb'}]\n"
          ]
        }
      ]
    }
  ]
}