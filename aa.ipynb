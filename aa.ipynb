{
  "nbformat": 4,
  "nbformat_minor": 0,
  "metadata": {
    "colab": {
      "provenance": [],
      "include_colab_link": true
    },
    "kernelspec": {
      "name": "python3",
      "display_name": "Python 3"
    },
    "language_info": {
      "name": "python"
    }
  },
  "cells": [
    {
      "cell_type": "markdown",
      "metadata": {
        "id": "view-in-github",
        "colab_type": "text"
      },
      "source": [
        "<a href=\"https://colab.research.google.com/github/Adarshya371-spec/21-function/blob/main/aa.ipynb\" target=\"_parent\"><img src=\"https://colab.research.google.com/assets/colab-badge.svg\" alt=\"Open In Colab\"/></a>"
      ]
    },
    {
      "cell_type": "code",
      "execution_count": null,
      "metadata": {
        "id": "3xFga2TS5ake"
      },
      "outputs": [],
      "source": [
        "def add(x,y):\n",
        "    return(x+y)\n",
        "\n",
        "def subtract(x,y):\n",
        "      return(x-y)\n",
        "\n",
        "def calculate(option):\n",
        "  if(option == '1' or option == '2'):\n",
        "      num1=int(input(\"enter 1st number:\"))\n",
        "      num2=int(input(\"enter 2nd number\"))\n",
        "\n",
        "      if option =='1':\n",
        "         print(\"sum\",num1, \"+\", num2, \"=\", add(num1,num2))\n",
        "\n",
        "      elif option == '2':\n",
        "          print(\"diff\",num1,\"-\",num2,\"=\", subtract(num1,num2))\n",
        "  else:\n",
        "     print(\"invalid input!!!!\")\n"
      ]
    },
    {
      "cell_type": "code",
      "source": [
        "print(\"choose operations from below\")\n",
        "print(\"1.add\")\n",
        "print(\"2.subtract\")\n",
        "\n",
        "option=input(\"enter option (1/2)\")\n",
        "\n",
        "calculate(option)\n",
        "\n"
      ],
      "metadata": {
        "colab": {
          "base_uri": "https://localhost:8080/"
        },
        "id": "UE7PVD8H9wRa",
        "outputId": "a02a2867-328f-4779-ca27-9424bf2393e0"
      },
      "execution_count": null,
      "outputs": [
        {
          "output_type": "stream",
          "name": "stdout",
          "text": [
            "choose operations from below\n",
            "1.add\n",
            "2.subtract\n",
            "enter option (1/2)1\n",
            "enter 1st number:4\n",
            "enter 2nd number8\n",
            "sum 4 + 8 = 12\n"
          ]
        }
      ]
    }
  ]
}