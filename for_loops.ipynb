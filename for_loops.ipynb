{
  "nbformat": 4,
  "nbformat_minor": 0,
  "metadata": {
    "colab": {
      "provenance": [],
      "authorship_tag": "ABX9TyNxkxxy0ISqOoPZuIu+p9Uz",
      "include_colab_link": true
    },
    "kernelspec": {
      "name": "python3",
      "display_name": "Python 3"
    },
    "language_info": {
      "name": "python"
    }
  },
  "cells": [
    {
      "cell_type": "markdown",
      "metadata": {
        "id": "view-in-github",
        "colab_type": "text"
      },
      "source": [
        "<a href=\"https://colab.research.google.com/github/Adarshya371-spec/21-function/blob/main/for_loops.ipynb\" target=\"_parent\"><img src=\"https://colab.research.google.com/assets/colab-badge.svg\" alt=\"Open In Colab\"/></a>"
      ]
    },
    {
      "cell_type": "code",
      "execution_count": 1,
      "metadata": {
        "id": "0UzAMXqchA5a"
      },
      "outputs": [],
      "source": [
        "list1=[90,95,92,97,99]"
      ]
    },
    {
      "cell_type": "code",
      "source": [
        "list2=[\"whithatjr\",\"coding\",\"classes\"]"
      ],
      "metadata": {
        "id": "lKLgZJbdhJcG"
      },
      "execution_count": 2,
      "outputs": []
    },
    {
      "cell_type": "code",
      "source": [
        "#SYNTAX 1:\n",
        "#for repetition_var in sequence:\n",
        " # statement1\n",
        "#  ....\n",
        " # statement n\n"
      ],
      "metadata": {
        "id": "5KHSWtiOkFT9"
      },
      "execution_count": null,
      "outputs": []
    },
    {
      "cell_type": "code",
      "source": [
        "#accessing list1 element using for loop\n",
        "for elem in list1:\n",
        "  print(elem)"
      ],
      "metadata": {
        "colab": {
          "base_uri": "https://localhost:8080/"
        },
        "id": "pnzOikdykuVY",
        "outputId": "7ceeb769-22b5-42ac-b760-9fe116b5b895"
      },
      "execution_count": 3,
      "outputs": [
        {
          "output_type": "stream",
          "name": "stdout",
          "text": [
            "90\n",
            "95\n",
            "92\n",
            "97\n",
            "99\n"
          ]
        }
      ]
    },
    {
      "cell_type": "code",
      "source": [
        "for i in list2:\n",
        "  print(i)"
      ],
      "metadata": {
        "colab": {
          "base_uri": "https://localhost:8080/"
        },
        "id": "QZbvd36ilBbP",
        "outputId": "5edff507-aa3e-4334-dcbd-e685f12452ef"
      },
      "execution_count": 4,
      "outputs": [
        {
          "output_type": "stream",
          "name": "stdout",
          "text": [
            "whithatjr\n",
            "coding\n",
            "classes\n"
          ]
        }
      ]
    },
    {
      "cell_type": "code",
      "source": [
        "#print a range of numbers from 0 to 5\n",
        "range(0,5)\n",
        "print(range(0,5))"
      ],
      "metadata": {
        "colab": {
          "base_uri": "https://localhost:8080/"
        },
        "id": "HJgnFUZTlco8",
        "outputId": "f09612a2-1581-404f-b936-12af42270dd3"
      },
      "execution_count": 5,
      "outputs": [
        {
          "output_type": "stream",
          "name": "stdout",
          "text": [
            "range(0, 5)\n"
          ]
        }
      ]
    },
    {
      "cell_type": "code",
      "source": [
        "for b in range(0,5):\n",
        "  print(b)"
      ],
      "metadata": {
        "colab": {
          "base_uri": "https://localhost:8080/"
        },
        "id": "NGay18kKly4O",
        "outputId": "2a89eb54-9ce4-492a-b368-1da8d9e07a5f"
      },
      "execution_count": 6,
      "outputs": [
        {
          "output_type": "stream",
          "name": "stdout",
          "text": [
            "0\n",
            "1\n",
            "2\n",
            "3\n",
            "4\n"
          ]
        }
      ]
    },
    {
      "cell_type": "code",
      "source": [
        "for c in range(0,5,2):\n",
        "  print(c)\n"
      ],
      "metadata": {
        "colab": {
          "base_uri": "https://localhost:8080/"
        },
        "id": "hyOGvDmMmHHv",
        "outputId": "0297088c-2301-485e-d009-ba23227c83f7"
      },
      "execution_count": 7,
      "outputs": [
        {
          "output_type": "stream",
          "name": "stdout",
          "text": [
            "0\n",
            "2\n",
            "4\n"
          ]
        }
      ]
    },
    {
      "cell_type": "code",
      "source": [
        "for i in range(5,0,-1):\n",
        "  print(i)"
      ],
      "metadata": {
        "colab": {
          "base_uri": "https://localhost:8080/"
        },
        "id": "6vjXpzLmmgSc",
        "outputId": "28970cb4-d730-4bcf-d4c5-da9a05a77adb"
      },
      "execution_count": 8,
      "outputs": [
        {
          "output_type": "stream",
          "name": "stdout",
          "text": [
            "5\n",
            "4\n",
            "3\n",
            "2\n",
            "1\n"
          ]
        }
      ]
    }
  ]
}